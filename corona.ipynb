{
 "cells": [
  {
   "cell_type": "code",
   "execution_count": null,
   "metadata": {},
   "outputs": [],
   "source": [
    "from datetime import date\n",
    "\n",
    "import numpy as np\n",
    "import pandas as pd\n",
    "import matplotlib.pyplot as plt\n",
    "import matplotlib.colors as mcolors\n",
    "import statsmodels.api as sm"
   ]
  },
  {
   "cell_type": "code",
   "execution_count": null,
   "metadata": {},
   "outputs": [],
   "source": [
    "path = 'COVID-19/csse_covid_19_data/csse_covid_19_time_series/time_series_19-covid-Confirmed.csv'\n",
    "df = pd.read_csv(path)\n",
    "df"
   ]
  },
  {
   "cell_type": "code",
   "execution_count": null,
   "metadata": {},
   "outputs": [],
   "source": [
    "countries = {}\n",
    "for row in df.to_numpy():    \n",
    "    country = row[1]\n",
    "    province = None if isinstance(row[0], float) else row[0]\n",
    "        \n",
    "    x = []\n",
    "    y = []\n",
    "    for i, cell in enumerate(list(row[4:])):\n",
    "        if cell > 20:\n",
    "            x.append(i)\n",
    "            y.append(cell)\n",
    "            \n",
    "    if x:   \n",
    "        if row[1] not in countries:\n",
    "            countries[country] = {}\n",
    "            \n",
    "        countries[country][province] = {\n",
    "            'x': np.array(x),\n",
    "            'y': np.log10(y)\n",
    "        }"
   ]
  },
  {
   "cell_type": "code",
   "execution_count": null,
   "metadata": {},
   "outputs": [],
   "source": [
    "data = []\n",
    "for country, color in zip(\n",
    "    ['Germany', 'Italy', 'Austria', 'Iran', 'Brazil'],\n",
    "    list(mcolors.BASE_COLORS.keys())[:5]\n",
    "):\n",
    "    countries[country][None]['name'] = country\n",
    "    countries[country][None]['color'] = color\n",
    "    data.append(countries[country][None])"
   ]
  },
  {
   "cell_type": "code",
   "execution_count": null,
   "metadata": {},
   "outputs": [],
   "source": [
    "a = -5\n",
    "for country in data:\n",
    "    model = sm.OLS(country['y'][a:], sm.add_constant(country['x'][a:]))\n",
    "    results = model.fit()\n",
    "    country['n'], country['m'] = results.params"
   ]
  },
  {
   "cell_type": "code",
   "execution_count": null,
   "metadata": {},
   "outputs": [],
   "source": [
    "b = 14\n",
    "\n",
    "fig, ax = plt.subplots()\n",
    "\n",
    "for country in data:\n",
    "    x_fit = np.arange(country['x'][a], country['x'][-1] + b)\n",
    "    y_fit = country['m'] * x_fit + country['n']\n",
    "    \n",
    "    ax.plot(country['x'], country['y'], country['color'] + 's', label=country['name'])\n",
    "    ax.plot(x_fit, y_fit, country['color'] + '-')\n",
    "\n",
    "ax.grid(True)\n",
    "ax.set_xlabel('days since 2020-01-22')\n",
    "ax.set_ylabel('log10 of cases')\n",
    "ax.legend(loc='upper left')\n",
    "\n",
    "fig = plt.gcf()\n",
    "fig.set_size_inches(10, 10)\n",
    "fig.savefig('{}.png'.format(date.today()))"
   ]
  }
 ],
 "metadata": {
  "kernelspec": {
   "display_name": "Python 3",
   "language": "python",
   "name": "python3"
  },
  "language_info": {
   "codemirror_mode": {
    "name": "ipython",
    "version": 3
   },
   "file_extension": ".py",
   "mimetype": "text/x-python",
   "name": "python",
   "nbconvert_exporter": "python",
   "pygments_lexer": "ipython3",
   "version": "3.7.3"
  }
 },
 "nbformat": 4,
 "nbformat_minor": 4
}
