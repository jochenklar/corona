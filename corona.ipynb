{
 "cells": [
  {
   "cell_type": "code",
   "execution_count": null,
   "metadata": {},
   "outputs": [],
   "source": [
    "from datetime import date\n",
    "\n",
    "import numpy as np\n",
    "import pandas as pd\n",
    "import matplotlib.pyplot as plt\n",
    "import matplotlib.colors as mcolors\n",
    "import statsmodels.api as sm"
   ]
  },
  {
   "cell_type": "code",
   "execution_count": null,
   "metadata": {},
   "outputs": [],
   "source": [
    "COUNTRIES = [\n",
    "    ('Germany', 'tab:red'),\n",
    "    ('Sweden', 'tab:green'),\n",
    "    ('Italy', 'tab:orange'),\n",
    "    ('Austria', 'tab:brown'),\n",
    "    ('United Kingdom', 'tab:gray'), \n",
    "    ('Spain', 'tab:pink'),\n",
    "    ('US', 'tab:blue'),\n",
    "    ('China', 'tab:olive'),\n",
    "    ('Korea, South', 'tab:cyan'),         \n",
    "    ('Singapore', 'tab:purple')\n",
    "]"
   ]
  },
  {
   "cell_type": "code",
   "execution_count": null,
   "metadata": {},
   "outputs": [],
   "source": [
    "def rebin(df_in):\n",
    "    # rebin values for each country\n",
    "    countries = set(df_in['Country/Region'])\n",
    "\n",
    "    xlength = len(countries)\n",
    "    ylength = df_in.shape[1] - 4\n",
    "\n",
    "    data = np.ones((ylength, xlength), dtype=float)\n",
    "    df = pd.DataFrame(data, index=np.arange(ylength), columns=countries)\n",
    "\n",
    "    for row in df_in.to_numpy():\n",
    "        country = row[1]\n",
    "\n",
    "        for i, n in enumerate(row[4:]):\n",
    "            df[country][i] += n\n",
    "\n",
    "    return df"
   ]
  },
  {
   "cell_type": "code",
   "execution_count": null,
   "metadata": {},
   "outputs": [],
   "source": [
    "def plot(df, a=-3, b=-1, c=3, ymin=100, ymax=1000000):\n",
    "\n",
    "    xmin = -42\n",
    "    xmax = c\n",
    "\n",
    "    fig, ax = plt.subplots()\n",
    "\n",
    "    for country, color in COUNTRIES:    \n",
    "        x = df[country].index - df[country].index[-1]\n",
    "        y = df[country]\n",
    "\n",
    "        model = sm.OLS(np.log10(y[a:b]), sm.add_constant(x[a:b]))\n",
    "        results = model.fit()\n",
    "        params = results.params\n",
    "        x_fit = np.arange(x[a], x[b] + 1 + c)\n",
    "        y_fit = np.power(10, params[1] * x_fit + params[0])\n",
    "        \n",
    "        label = '{} ({})'.format(country, int(df[country][df.shape[0] - 1]))\n",
    "\n",
    "        plt.semilogy(x, y, label=label, linestyle='--', marker='s', color=color)\n",
    "        plt.semilogy(x_fit, y_fit, linestyle='-', color=color)\n",
    "\n",
    "    ax.grid(True, which=\"major\", color='black')\n",
    "    ax.grid(True, which=\"minor\", linestyle='--')\n",
    "    ax.set_xlim([xmin,xmax])\n",
    "    ax.set_ylim([ymin,ymax])\n",
    "    ax.set_xlabel('days since {}'.format(date.today()))\n",
    "    ax.set_ylabel('number of cases')\n",
    "    ax.set_xticks(np.arange(xmin, xmax + 1, 7))\n",
    "    ax.set_xticks(np.arange(xmin, xmax), minor=True)\n",
    "    ax.legend(loc='upper left')\n",
    "\n",
    "    fig = plt.gcf()\n",
    "    fig.set_size_inches(12, 12)\n",
    "    fig.savefig('{}.png'.format(date.today()))"
   ]
  },
  {
   "cell_type": "code",
   "execution_count": null,
   "metadata": {},
   "outputs": [],
   "source": [
    "def plot_new(df, ymin=100, ymax=100000):\n",
    "    xmin = -42\n",
    "    xmax = 0\n",
    "    \n",
    "    fig, ax = plt.subplots()\n",
    "    \n",
    "    for country, color in COUNTRIES:\n",
    "        n = df[country].shape[0] - 1\n",
    "        x = df[country].index[1:] - df[country].index[-1] \n",
    "        y = np.array([df[country][i+1] - df[country][i] for i in range(n)])\n",
    "        \n",
    "        label = '{} ({})'.format(country, int(y[-1]))\n",
    "        \n",
    "        plt.semilogy(x, y, label=label, linestyle='--', marker='s', color=color)\n",
    "        \n",
    "    ax.grid(True, which=\"major\", color='black')\n",
    "    ax.grid(True, which=\"minor\", linestyle='--')\n",
    "    ax.set_xlim([xmin,xmax])\n",
    "    ax.set_ylim([ymin,ymax])\n",
    "    ax.set_xlabel('days since {}'.format(date.today()))\n",
    "    ax.set_ylabel('number of new cases')\n",
    "    ax.set_xticks(np.arange(xmin, xmax + 1, 7))\n",
    "    ax.set_xticks(np.arange(xmin, xmax), minor=True)\n",
    "    ax.legend(loc='upper left')\n",
    "\n",
    "    fig = plt.gcf()\n",
    "    fig.set_size_inches(12, 12)\n",
    "    fig.savefig('{}.png'.format(date.today()))"
   ]
  },
  {
   "cell_type": "code",
   "execution_count": null,
   "metadata": {},
   "outputs": [],
   "source": [
    "def plot_new_mean(df, ymin=100, ymax=100000, window=7):\n",
    "    xmin = -42\n",
    "    xmax = 0\n",
    "    \n",
    "    fig, ax = plt.subplots()\n",
    "    \n",
    "    for country, color in COUNTRIES:\n",
    "        n = df[country].shape[0] - 1\n",
    "\n",
    "        i0 = window // 2\n",
    "        x = df[country].index[i0:-window+i0] - df[country].index[-1]\n",
    "        \n",
    "        y_list = []\n",
    "        for i in range(df[country].shape[0] - window):\n",
    "            mean = 0\n",
    "            for j in range(i, i + window):\n",
    "                mean += (df[country][j+1] - df[country][j])\n",
    "            y_list.append(mean / float(window))\n",
    "\n",
    "        y = np.array(y_list)\n",
    "        \n",
    "        label = '{} ({})'.format(country, int(y[-1]))\n",
    "        \n",
    "        plt.semilogy(x, y, label=label, linestyle='--', marker='s', color=color)\n",
    "        \n",
    "    ax.grid(True, which=\"major\", color='black')\n",
    "    ax.grid(True, which=\"minor\", linestyle='--')\n",
    "    ax.set_xlim([xmin,xmax])\n",
    "    ax.set_ylim([ymin,ymax])\n",
    "    ax.set_xlabel('days since {}'.format(date.today()))\n",
    "    ax.set_ylabel('number of new cases')\n",
    "    ax.set_xticks(np.arange(xmin, xmax + 1, 7))\n",
    "    ax.set_xticks(np.arange(xmin, xmax), minor=True)\n",
    "    ax.legend(loc='upper left')\n",
    "\n",
    "    fig = plt.gcf()\n",
    "    fig.set_size_inches(12, 12)\n",
    "    fig.savefig('{}.png'.format(date.today()))"
   ]
  },
  {
   "cell_type": "code",
   "execution_count": null,
   "metadata": {},
   "outputs": [],
   "source": [
    "path = 'COVID-19/csse_covid_19_data/csse_covid_19_time_series/time_series_covid19_confirmed_global.csv'\n",
    "df_in = pd.read_csv(path)\n",
    "df = rebin(df_in)"
   ]
  },
  {
   "cell_type": "code",
   "execution_count": null,
   "metadata": {},
   "outputs": [],
   "source": [
    "plot(df)"
   ]
  },
  {
   "cell_type": "code",
   "execution_count": null,
   "metadata": {},
   "outputs": [],
   "source": [
    "plot_new(df)"
   ]
  },
  {
   "cell_type": "code",
   "execution_count": null,
   "metadata": {},
   "outputs": [],
   "source": [
    "plot_new_mean(df, window=7)"
   ]
  },
  {
   "cell_type": "code",
   "execution_count": null,
   "metadata": {},
   "outputs": [],
   "source": [
    "path = 'COVID-19/csse_covid_19_data/csse_covid_19_time_series/time_series_covid19_deaths_global.csv'\n",
    "df_in = pd.read_csv(path)\n",
    "df = rebin(df_in)"
   ]
  },
  {
   "cell_type": "code",
   "execution_count": null,
   "metadata": {},
   "outputs": [],
   "source": [
    "plot(df, ymin=10, ymax=50000)"
   ]
  },
  {
   "cell_type": "code",
   "execution_count": null,
   "metadata": {},
   "outputs": [],
   "source": [
    "plot_new(df, ymin=10, ymax=5000)"
   ]
  },
  {
   "cell_type": "code",
   "execution_count": null,
   "metadata": {},
   "outputs": [],
   "source": [
    "plot_new_mean(df, ymin=10, ymax=5000, window=7)"
   ]
  },
  {
   "cell_type": "code",
   "execution_count": null,
   "metadata": {},
   "outputs": [],
   "source": [
    "path = 'COVID-19/csse_covid_19_data/csse_covid_19_time_series/time_series_covid19_recovered_global.csv'\n",
    "df_in = pd.read_csv(path)\n",
    "df = rebin(df_in)"
   ]
  },
  {
   "cell_type": "code",
   "execution_count": null,
   "metadata": {},
   "outputs": [],
   "source": [
    "plot(df, ymax=100000)"
   ]
  },
  {
   "cell_type": "code",
   "execution_count": null,
   "metadata": {},
   "outputs": [],
   "source": [
    "plot_new(df, ymin=10, ymax=10000)"
   ]
  },
  {
   "cell_type": "code",
   "execution_count": null,
   "metadata": {},
   "outputs": [],
   "source": [
    "plot_new_mean(df, ymin=10, ymax=10000, window=7)"
   ]
  }
 ],
 "metadata": {
  "kernelspec": {
   "display_name": "Python 3",
   "language": "python",
   "name": "python3"
  },
  "language_info": {
   "codemirror_mode": {
    "name": "ipython",
    "version": 3
   },
   "file_extension": ".py",
   "mimetype": "text/x-python",
   "name": "python",
   "nbconvert_exporter": "python",
   "pygments_lexer": "ipython3",
   "version": "3.7.6"
  }
 },
 "nbformat": 4,
 "nbformat_minor": 4
}
