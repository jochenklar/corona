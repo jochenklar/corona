{
 "cells": [
  {
   "cell_type": "code",
   "execution_count": null,
   "metadata": {},
   "outputs": [],
   "source": [
    "from datetime import date\n",
    "\n",
    "import numpy as np\n",
    "import pandas as pd\n",
    "import matplotlib.pyplot as plt\n",
    "import matplotlib.colors as mcolors\n",
    "import statsmodels.api as sm"
   ]
  },
  {
   "cell_type": "code",
   "execution_count": null,
   "metadata": {},
   "outputs": [],
   "source": [
    "path = 'COVID-19/csse_covid_19_data/csse_covid_19_time_series/time_series_19-covid-Confirmed.csv'\n",
    "df_in = pd.read_csv(path)\n",
    "# df_in"
   ]
  },
  {
   "cell_type": "code",
   "execution_count": null,
   "metadata": {},
   "outputs": [],
   "source": [
    "# rebin values for each country\n",
    "countries = set(df_in['Country/Region'])\n",
    "\n",
    "xlength = len(countries)\n",
    "ylength = df_in.shape[1] - 4\n",
    "\n",
    "data = np.ones((ylength, xlength), dtype=float)\n",
    "df = pd.DataFrame(data, index=np.arange(ylength), columns=countries)\n",
    "\n",
    "for row in df_in.to_numpy():\n",
    "    country = row[1]\n",
    "    \n",
    "    for i, n in enumerate(row[4:]):\n",
    "        df[country][i] += n\n",
    "\n",
    "# countries"
   ]
  },
  {
   "cell_type": "code",
   "execution_count": null,
   "metadata": {},
   "outputs": [],
   "source": [
    "a1 = -6\n",
    "b1 = -1\n",
    "a2 = -16\n",
    "b2 = -1\n",
    "c  = 10\n",
    "\n",
    "xmin = -30\n",
    "xmax = c\n",
    "ymin = 100\n",
    "ymax = 500000\n",
    "\n",
    "fig, ax = plt.subplots()\n",
    "\n",
    "for country, color in [\n",
    "    ('Germany', 'tab:red'),\n",
    "    ('France', 'tab:green'),\n",
    "    ('Italy', 'tab:orange'),\n",
    "    ('Austria', 'tab:brown'),\n",
    "    ('Switzerland', 'tab:gray'), \n",
    "    ('Spain', 'tab:pink'),\n",
    "    ('US', 'tab:blue'),\n",
    "    ('China', 'tab:olive'),\n",
    "    ('Korea, South', 'tab:cyan'),         \n",
    "    ('Singapore', 'tab:purple')\n",
    "]:    \n",
    "    x = df[country].index - df[country].index[-1]\n",
    "    y = df[country]\n",
    "\n",
    "    model = sm.OLS(np.log10(y[a1:b1]), sm.add_constant(x[a1:b1]))\n",
    "    results = model.fit()\n",
    "    params = results.params\n",
    "    x_fit1 = np.arange(x[a1], x[-1] + 1 + c)\n",
    "    y_fit1 = np.power(10, params[1] * x_fit1 + params[0])\n",
    "    \n",
    "    model = sm.OLS(np.log10(y[a2:b2]), sm.add_constant(x[a2:b2]))\n",
    "    results = model.fit()\n",
    "    params = results.params\n",
    "    x_fit2 = np.arange(x[a2], x[-1] + 1 + c)\n",
    "    y_fit2 = np.power(10, params[1] * x_fit2 + params[0])\n",
    "    \n",
    "    label = '{} ({})'.format(country, int(df[country][df.shape[0] - 1]))\n",
    "    \n",
    "    plt.semilogy(x, y, label=label, linestyle='', marker='s', color=color)\n",
    "    plt.semilogy(x_fit1, y_fit1, linestyle='-', color=color)\n",
    "    plt.semilogy(x_fit2, y_fit2, linestyle='--', color=color)\n",
    "    \n",
    "ax.grid(True, which=\"major\", color='black')\n",
    "ax.grid(True, which=\"minor\", linestyle='--')\n",
    "ax.set_xlim([xmin,xmax])\n",
    "ax.set_ylim([ymin,ymax])\n",
    "ax.set_xlabel('days since {}'.format(date.today()))\n",
    "ax.set_ylabel('number of reported cases')\n",
    "ax.set_xticks(np.arange(xmin, xmax), minor=True)\n",
    "ax.legend(loc='upper left')\n",
    "\n",
    "fig = plt.gcf()\n",
    "fig.set_size_inches(15, 15)\n",
    "fig.savefig('{}.png'.format(date.today()))"
   ]
  }
 ],
 "metadata": {
  "kernelspec": {
   "display_name": "Python 3",
   "language": "python",
   "name": "python3"
  },
  "language_info": {
   "codemirror_mode": {
    "name": "ipython",
    "version": 3
   },
   "file_extension": ".py",
   "mimetype": "text/x-python",
   "name": "python",
   "nbconvert_exporter": "python",
   "pygments_lexer": "ipython3",
   "version": "3.7.6"
  }
 },
 "nbformat": 4,
 "nbformat_minor": 4
}
