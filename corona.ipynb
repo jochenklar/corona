{
 "cells": [
  {
   "cell_type": "code",
   "execution_count": null,
   "metadata": {},
   "outputs": [],
   "source": [
    "from datetime import date\n",
    "\n",
    "import numpy as np\n",
    "import pandas as pd\n",
    "import matplotlib.pyplot as plt\n",
    "import matplotlib.colors as mcolors\n",
    "import statsmodels.api as sm"
   ]
  },
  {
   "cell_type": "code",
   "execution_count": null,
   "metadata": {},
   "outputs": [],
   "source": [
    "path = 'COVID-19/csse_covid_19_data/csse_covid_19_time_series/time_series_19-covid-Confirmed.csv'\n",
    "df_in = pd.read_csv(path)\n",
    "df_in"
   ]
  },
  {
   "cell_type": "code",
   "execution_count": null,
   "metadata": {},
   "outputs": [],
   "source": [
    "# rebin values for each country\n",
    "countries = set(df_in['Country/Region'])\n",
    "\n",
    "xlength = len(countries)\n",
    "ylength = df_in.shape[1] - 4\n",
    "\n",
    "data = np.ones((ylength, xlength), dtype=float)\n",
    "df = pd.DataFrame(data, index=np.arange(ylength), columns=countries)\n",
    "\n",
    "for row in df_in.to_numpy():\n",
    "    country = row[1]\n",
    "    \n",
    "    for i, n in enumerate(row[4:]):\n",
    "        df[country][i] += n"
   ]
  },
  {
   "cell_type": "code",
   "execution_count": null,
   "metadata": {},
   "outputs": [],
   "source": [
    "a = -5\n",
    "b = 5\n",
    "\n",
    "xmin = 30\n",
    "xmax = df.shape[0] + b - 1\n",
    "ymin = 2\n",
    "ymax = 5\n",
    "\n",
    "fig, ax = plt.subplots()\n",
    "\n",
    "for country, color in zip(\n",
    "    [\n",
    "        'Germany',\n",
    "        'Italy',\n",
    "        'Austria',\n",
    "        'Iran',\n",
    "        'Singapore',\n",
    "        'Switzerland', \n",
    "        'Spain',\n",
    "        'US',\n",
    "        'China'\n",
    "    ],\n",
    "    list(mcolors.TABLEAU_COLORS.keys())\n",
    "):    \n",
    "    x = df[country].index\n",
    "    y = np.log10(df[country])\n",
    "\n",
    "    model = sm.OLS(y[a:], sm.add_constant(x[a:]))\n",
    "    results = model.fit()\n",
    "    params = results.params\n",
    "    \n",
    "    x_fit = np.arange(x[a], x[-1] + b)\n",
    "    y_fit = params[1] * x_fit + params[0]\n",
    "\n",
    "    ax.plot(x, y, label=country, linestyle='--', marker='s', color=color)\n",
    "    ax.plot(x_fit, y_fit, linestyle='-', color=color)\n",
    "    \n",
    "ax.grid(True)\n",
    "ax.set_xlim([xmin,xmax])\n",
    "ax.set_ylim([ymin,ymax])\n",
    "ax.set_xlabel('days since 2020-01-22')\n",
    "ax.set_ylabel('log10 of cases')\n",
    "ax.legend(loc='upper left')\n",
    "\n",
    "fig = plt.gcf()\n",
    "fig.set_size_inches(10, 10)\n",
    "fig.savefig('{}.png'.format(date.today()))"
   ]
  },
  {
   "cell_type": "code",
   "execution_count": null,
   "metadata": {},
   "outputs": [],
   "source": []
  }
 ],
 "metadata": {
  "kernelspec": {
   "display_name": "Python 3",
   "language": "python",
   "name": "python3"
  },
  "language_info": {
   "codemirror_mode": {
    "name": "ipython",
    "version": 3
   },
   "file_extension": ".py",
   "mimetype": "text/x-python",
   "name": "python",
   "nbconvert_exporter": "python",
   "pygments_lexer": "ipython3",
   "version": "3.7.6"
  }
 },
 "nbformat": 4,
 "nbformat_minor": 4
}
